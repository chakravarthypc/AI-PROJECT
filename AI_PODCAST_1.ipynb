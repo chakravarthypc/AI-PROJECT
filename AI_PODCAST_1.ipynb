{
  "cells": [
    {
      "cell_type": "markdown",
      "metadata": {
        "id": "view-in-github",
        "colab_type": "text"
      },
      "source": [
        "<a href=\"https://colab.research.google.com/github/chakravarthypc/AI-PROJECT/blob/main/AI_PODCAST_1.ipynb\" target=\"_parent\"><img src=\"https://colab.research.google.com/assets/colab-badge.svg\" alt=\"Open In Colab\"/></a>"
      ]
    },
    {
      "cell_type": "code",
      "execution_count": 2,
      "metadata": {
        "colab": {
          "base_uri": "https://localhost:8080/"
        },
        "collapsed": true,
        "id": "w2WuxEMZYJcc",
        "outputId": "b8cc4a45-024a-483c-d744-4c98c8343811"
      },
      "outputs": [
        {
          "output_type": "stream",
          "name": "stdout",
          "text": [
            "\u001b[?25l   \u001b[90m━━━━━━━━━━━━━━━━━━━━━━━━━━━━━━━━━━━━━━━━\u001b[0m \u001b[32m0.0/303.3 kB\u001b[0m \u001b[31m?\u001b[0m eta \u001b[36m-:--:--\u001b[0m\r\u001b[2K   \u001b[91m━━━━━━━━━━━━━━━━━━━━━━━━━━━━━━━━━━━━━━━\u001b[0m\u001b[90m╺\u001b[0m \u001b[32m297.0/303.3 kB\u001b[0m \u001b[31m12.8 MB/s\u001b[0m eta \u001b[36m0:00:01\u001b[0m\r\u001b[2K   \u001b[90m━━━━━━━━━━━━━━━━━━━━━━━━━━━━━━━━━━━━━━━━\u001b[0m \u001b[32m303.3/303.3 kB\u001b[0m \u001b[31m8.2 MB/s\u001b[0m eta \u001b[36m0:00:00\u001b[0m\n",
            "\u001b[?25h\u001b[?25l   \u001b[90m━━━━━━━━━━━━━━━━━━━━━━━━━━━━━━━━━━━━━━━━\u001b[0m \u001b[32m0.0/3.5 MB\u001b[0m \u001b[31m?\u001b[0m eta \u001b[36m-:--:--\u001b[0m\r\u001b[2K   \u001b[91m━━━━━━━━━━━━━━━━━━━━━━━━━━━━━━━━━━━━━━━\u001b[0m\u001b[91m╸\u001b[0m \u001b[32m3.5/3.5 MB\u001b[0m \u001b[31m144.7 MB/s\u001b[0m eta \u001b[36m0:00:01\u001b[0m\r\u001b[2K   \u001b[90m━━━━━━━━━━━━━━━━━━━━━━━━━━━━━━━━━━━━━━━━\u001b[0m \u001b[32m3.5/3.5 MB\u001b[0m \u001b[31m78.4 MB/s\u001b[0m eta \u001b[36m0:00:00\u001b[0m\n",
            "\u001b[?25h"
          ]
        }
      ],
      "source": [
        "!pip install -qU cohere gradio"
      ]
    },
    {
      "cell_type": "code",
      "execution_count": 3,
      "metadata": {
        "colab": {
          "base_uri": "https://localhost:8080/"
        },
        "collapsed": true,
        "id": "LEB-AZ2lYL7X",
        "outputId": "970f54f4-ba4b-4117-bc41-43c48ee535e9"
      },
      "outputs": [
        {
          "output_type": "stream",
          "name": "stdout",
          "text": [
            "Reading package lists... Done\n",
            "Building dependency tree... Done\n",
            "Reading state information... Done\n",
            "The following additional packages will be installed:\n",
            "  espeak-ng-data libespeak-ng1 libpcaudio0 libsonic0\n",
            "The following NEW packages will be installed:\n",
            "  espeak-ng espeak-ng-data libespeak-ng1 libpcaudio0 libsonic0\n",
            "0 upgraded, 5 newly installed, 0 to remove and 38 not upgraded.\n",
            "Need to get 4,526 kB of archives.\n",
            "After this operation, 11.9 MB of additional disk space will be used.\n",
            "Get:1 http://archive.ubuntu.com/ubuntu jammy/main amd64 libpcaudio0 amd64 1.1-6build2 [8,956 B]\n",
            "Get:2 http://archive.ubuntu.com/ubuntu jammy/main amd64 libsonic0 amd64 0.2.0-11build1 [10.3 kB]\n",
            "Get:3 http://archive.ubuntu.com/ubuntu jammy-updates/main amd64 espeak-ng-data amd64 1.50+dfsg-10ubuntu0.1 [3,956 kB]\n",
            "Get:4 http://archive.ubuntu.com/ubuntu jammy-updates/main amd64 libespeak-ng1 amd64 1.50+dfsg-10ubuntu0.1 [207 kB]\n",
            "Get:5 http://archive.ubuntu.com/ubuntu jammy-updates/universe amd64 espeak-ng amd64 1.50+dfsg-10ubuntu0.1 [343 kB]\n",
            "Fetched 4,526 kB in 1s (5,096 kB/s)\n",
            "Selecting previously unselected package libpcaudio0:amd64.\n",
            "(Reading database ... 126455 files and directories currently installed.)\n",
            "Preparing to unpack .../libpcaudio0_1.1-6build2_amd64.deb ...\n",
            "Unpacking libpcaudio0:amd64 (1.1-6build2) ...\n",
            "Selecting previously unselected package libsonic0:amd64.\n",
            "Preparing to unpack .../libsonic0_0.2.0-11build1_amd64.deb ...\n",
            "Unpacking libsonic0:amd64 (0.2.0-11build1) ...\n",
            "Selecting previously unselected package espeak-ng-data:amd64.\n",
            "Preparing to unpack .../espeak-ng-data_1.50+dfsg-10ubuntu0.1_amd64.deb ...\n",
            "Unpacking espeak-ng-data:amd64 (1.50+dfsg-10ubuntu0.1) ...\n",
            "Selecting previously unselected package libespeak-ng1:amd64.\n",
            "Preparing to unpack .../libespeak-ng1_1.50+dfsg-10ubuntu0.1_amd64.deb ...\n",
            "Unpacking libespeak-ng1:amd64 (1.50+dfsg-10ubuntu0.1) ...\n",
            "Selecting previously unselected package espeak-ng.\n",
            "Preparing to unpack .../espeak-ng_1.50+dfsg-10ubuntu0.1_amd64.deb ...\n",
            "Unpacking espeak-ng (1.50+dfsg-10ubuntu0.1) ...\n",
            "Setting up libpcaudio0:amd64 (1.1-6build2) ...\n",
            "Setting up libsonic0:amd64 (0.2.0-11build1) ...\n",
            "Setting up espeak-ng-data:amd64 (1.50+dfsg-10ubuntu0.1) ...\n",
            "Setting up libespeak-ng1:amd64 (1.50+dfsg-10ubuntu0.1) ...\n",
            "Setting up espeak-ng (1.50+dfsg-10ubuntu0.1) ...\n",
            "Processing triggers for man-db (2.10.2-1) ...\n",
            "Processing triggers for libc-bin (2.35-0ubuntu3.8) ...\n",
            "/sbin/ldconfig.real: /usr/local/lib/libtcm.so.1 is not a symbolic link\n",
            "\n",
            "/sbin/ldconfig.real: /usr/local/lib/libur_adapter_opencl.so.0 is not a symbolic link\n",
            "\n",
            "/sbin/ldconfig.real: /usr/local/lib/libtbb.so.12 is not a symbolic link\n",
            "\n",
            "/sbin/ldconfig.real: /usr/local/lib/libtcm_debug.so.1 is not a symbolic link\n",
            "\n",
            "/sbin/ldconfig.real: /usr/local/lib/libtbbmalloc.so.2 is not a symbolic link\n",
            "\n",
            "/sbin/ldconfig.real: /usr/local/lib/libur_adapter_level_zero.so.0 is not a symbolic link\n",
            "\n",
            "/sbin/ldconfig.real: /usr/local/lib/libtbbbind_2_5.so.3 is not a symbolic link\n",
            "\n",
            "/sbin/ldconfig.real: /usr/local/lib/libhwloc.so.15 is not a symbolic link\n",
            "\n",
            "/sbin/ldconfig.real: /usr/local/lib/libumf.so.1 is not a symbolic link\n",
            "\n",
            "/sbin/ldconfig.real: /usr/local/lib/libtbbbind.so.3 is not a symbolic link\n",
            "\n",
            "/sbin/ldconfig.real: /usr/local/lib/libur_loader.so.0 is not a symbolic link\n",
            "\n",
            "/sbin/ldconfig.real: /usr/local/lib/libtbbbind_2_0.so.3 is not a symbolic link\n",
            "\n",
            "/sbin/ldconfig.real: /usr/local/lib/libtbbmalloc_proxy.so.2 is not a symbolic link\n",
            "\n",
            "/sbin/ldconfig.real: /usr/local/lib/libur_adapter_level_zero_v2.so.0 is not a symbolic link\n",
            "\n"
          ]
        }
      ],
      "source": [
        "# Install eSpeak-ng\n",
        "!apt-get install -y espeak-ng"
      ]
    },
    {
      "cell_type": "code",
      "execution_count": 4,
      "metadata": {
        "colab": {
          "base_uri": "https://localhost:8080/"
        },
        "collapsed": true,
        "id": "j8mGCtFOYRnT",
        "outputId": "e156f363-5a8d-4705-faf9-a3e3bd555139"
      },
      "outputs": [
        {
          "output_type": "stream",
          "name": "stdout",
          "text": [
            "Collecting gtts\n",
            "  Downloading gTTS-2.5.4-py3-none-any.whl.metadata (4.1 kB)\n",
            "Requirement already satisfied: requests<3,>=2.27 in /usr/local/lib/python3.12/dist-packages (from gtts) (2.32.4)\n",
            "Collecting click<8.2,>=7.1 (from gtts)\n",
            "  Downloading click-8.1.8-py3-none-any.whl.metadata (2.3 kB)\n",
            "Requirement already satisfied: charset_normalizer<4,>=2 in /usr/local/lib/python3.12/dist-packages (from requests<3,>=2.27->gtts) (3.4.4)\n",
            "Requirement already satisfied: idna<4,>=2.5 in /usr/local/lib/python3.12/dist-packages (from requests<3,>=2.27->gtts) (3.11)\n",
            "Requirement already satisfied: urllib3<3,>=1.21.1 in /usr/local/lib/python3.12/dist-packages (from requests<3,>=2.27->gtts) (2.5.0)\n",
            "Requirement already satisfied: certifi>=2017.4.17 in /usr/local/lib/python3.12/dist-packages (from requests<3,>=2.27->gtts) (2025.10.5)\n",
            "Downloading gTTS-2.5.4-py3-none-any.whl (29 kB)\n",
            "Downloading click-8.1.8-py3-none-any.whl (98 kB)\n",
            "\u001b[2K   \u001b[90m━━━━━━━━━━━━━━━━━━━━━━━━━━━━━━━━━━━━━━━━\u001b[0m \u001b[32m98.2/98.2 kB\u001b[0m \u001b[31m7.4 MB/s\u001b[0m eta \u001b[36m0:00:00\u001b[0m\n",
            "\u001b[?25hInstalling collected packages: click, gtts\n",
            "  Attempting uninstall: click\n",
            "    Found existing installation: click 8.3.0\n",
            "    Uninstalling click-8.3.0:\n",
            "      Successfully uninstalled click-8.3.0\n",
            "Successfully installed click-8.1.8 gtts-2.5.4\n"
          ]
        }
      ],
      "source": [
        "!pip install gtts"
      ]
    },
    {
      "cell_type": "markdown",
      "metadata": {
        "id": "oXPSe56ErADS"
      },
      "source": []
    },
    {
      "cell_type": "code",
      "execution_count": 5,
      "metadata": {
        "colab": {
          "base_uri": "https://localhost:8080/"
        },
        "id": "gsB1NPokm8g3",
        "outputId": "d7e9908b-0070-40e9-e817-03d26d36d46f"
      },
      "outputs": [
        {
          "output_type": "stream",
          "name": "stdout",
          "text": [
            "🎙️ Generating podcast on: CRICKET\n",
            "\n",
            "📜 Cleaned Script Generated:\n",
            "\n",
            "**Podcast Script: \"The Magic of Cricket\"** **:** \"Welcome to *The Game Changers*, the podcast where we dive deep into the sports that shape our world. I’m your , , and today, we’re stepping onto the pitch to explore the timeless, thrilling, and often unpredictable world of *Cricket*. Whether you’re a die-hard fan or a curious newcomer, this episode is your ticket to understanding why cricket isn’t just a sport—it’s a global phenomenon. Let’s play ball!\" **:** \"Cricket, often called the ‘gentleman’s game,’ has a history that spans over 500 years. Originating in England, it has since become a cultural cornerstone in countries like India, Australia, South Africa, and the Caribbean. But what makes cricket so special? Is it the strategic depth, the dramatic moments, or the way it brings communities together? Let’s break it down.\" \"First, the basics. Cricket is played between two teams of 11 players each. The objective? Score more runs than your opponent. Sounds simple, right? But here’s where it gets interesting. The game has three main formats: Test matches, which can last up to five days; One Day Internationals (ODIs), wrapped up in a single day; and the fast-paced Twenty20 (T20), which is over in just a few hours. Each format offers a unique flavor, keeping fans on the edge of their seats.\" \"Now, let’s talk about the legends. From Don Bradman’s unparalleled batting average to Sachin Tendulkar’s record-breaking career, cricket has produced icons who’ve transcended the sport. And who can forget the rivalry between India and Pakistan, or the Ashes series between England and Australia? These matches aren’t just games—they’re battles of pride, history, and passion.\" \"But cricket isn’t just about the pros. It’s a sport that thrives in backyards, streets, and local clubs. Kids grow up dreaming of hitting a six or bowling a perfect yorker. It’s a game that teaches patience, precision, and teamwork. And let’s not forget the role of technology—from Hawk-Eye to the Decision Review System (DRS), cricket has embraced innovation while preserving its traditional charm.\" \"However, cricket isn’t without its challenges. Issues like match-fixing, player burnout, and the struggle for gender equality in the sport have made headlines. Yet, the cricket community continues to evolve, pushing for fairness and inclusivity.\" \"So, why does cricket matter? Because it’s more than a game. It’s a unifier, a storyteller, and a mirror to society. Whether you’re cheering in a packed stadium or listening to the radio, cricket has a way of bringing people together, one over at a time.\" **:** \"Thanks for joining me on this journey through the world of cricket. If you enjoyed this episode, don’t forget to subscribe, leave a review, and share it with your fellow cricket enthusiasts. Until next time, keep playing, keep cheering, and remember—in cricket, every ball has a story. Cheers!\" **End of Script.**\n",
            "\n",
            "🔊 Generating audio...\n",
            "✅ Podcast saved as: podcast_dfea2268bdaf490b9f0f34b8c2c11f31.mp3\n"
          ]
        }
      ],
      "source": [
        "import cohere\n",
        "from gtts import gTTS\n",
        "import os\n",
        "import re\n",
        "import uuid\n",
        "\n",
        "# 1. Initialize Cohere API\n",
        "co = cohere.Client(\"GARNtcnzo4a0k1xazRIZf1SBUUqbFrSn9uIX7B39\")  # Replace with your real key\n",
        "\n",
        "# 2. Generate podcast script\n",
        "def generate_script(topic):\n",
        "    prompt = f\"Write a 400-word podcast script on the topic: '{topic}'.\"\n",
        "    response = co.chat(\n",
        "        model=\"command-a-03-2025\",\n",
        "        message=prompt,\n",
        "        max_tokens=800,\n",
        "        temperature=0.7\n",
        "    )\n",
        "\n",
        "    # Handle possible response formats\n",
        "    if hasattr(response, \"text\") and response.text:\n",
        "        script = response.text.strip()\n",
        "    elif hasattr(response, \"output_text\"):\n",
        "        script = response.output_text.strip()\n",
        "    else:\n",
        "        raise RuntimeError(\"⚠️ Cohere response format not recognized.\")\n",
        "\n",
        "    # Clean the script\n",
        "    return clean_script(script)\n",
        "\n",
        "# 3. Function to clean the script\n",
        "def clean_script(script):\n",
        "    # Remove stage directions and unwanted lines\n",
        "    script = re.sub(r\"\\*\\*?\\[.*?\\]\\*\\*?\", \"\", script)              # Removes [Intro Music Fades In], [Music Transition], etc.\n",
        "    script = re.sub(r\"\\bHost:?\\b\", \"\", script, flags=re.IGNORECASE) # Removes 'Host:' or 'host:'\n",
        "    script = re.sub(r\"I[’']m your host.*?,\", \"\", script, flags=re.IGNORECASE)  # Removes lines like \"I’m your host, [Your Name],\"\n",
        "    script = re.sub(r\"\\[Your Name\\]\", \"\", script, flags=re.IGNORECASE)         # Removes placeholder names\n",
        "    script = re.sub(r\"\\s{2,}\", \" \", script)                        # Remove extra spaces\n",
        "    script = re.sub(r\"\\n{2,}\", \"\\n\", script)                       # Remove extra newlines\n",
        "    return script.strip()\n",
        "\n",
        "# 4. Convert cleaned script to speech with gTTS\n",
        "def generate_audio(script):\n",
        "    filename = f\"podcast_{uuid.uuid4().hex}.mp3\"\n",
        "    tts = gTTS(text=script, lang=\"en\")\n",
        "    tts.save(filename)\n",
        "    return filename\n",
        "\n",
        "# 5. Full workflow\n",
        "def generate_podcast(topic):\n",
        "    print(f\"🎙️ Generating podcast on: {topic}\")\n",
        "\n",
        "    script = generate_script(topic)\n",
        "    print(\"\\n📜 Cleaned Script Generated:\\n\")\n",
        "    print(script)\n",
        "\n",
        "    print(\"\\n🔊 Generating audio...\")\n",
        "    audio_file = generate_audio(script)\n",
        "    print(f\"✅ Podcast saved as: {audio_file}\")\n",
        "\n",
        "    return script, audio_file\n",
        "\n",
        "# 🚀 Run example\n",
        "if __name__ == \"__main__\":\n",
        "    topic = \"CRICKET\"\n",
        "    script, audio_file = generate_podcast(topic)"
      ]
    },
    {
      "cell_type": "code",
      "execution_count": null,
      "metadata": {
        "colab": {
          "background_save": true,
          "base_uri": "https://localhost:8080/",
          "height": 1000
        },
        "id": "GKJnm0YM13qd",
        "outputId": "61ab62de-fdc2-4675-b621-fe541951d374"
      },
      "outputs": [
        {
          "output_type": "stream",
          "name": "stdout",
          "text": [
            "Requirement already satisfied: cohere in /usr/local/lib/python3.12/dist-packages (5.20.0)\n",
            "Requirement already satisfied: gtts in /usr/local/lib/python3.12/dist-packages (2.5.4)\n",
            "Requirement already satisfied: fastavro<2.0.0,>=1.9.4 in /usr/local/lib/python3.12/dist-packages (from cohere) (1.12.1)\n",
            "Requirement already satisfied: httpx>=0.21.2 in /usr/local/lib/python3.12/dist-packages (from cohere) (0.28.1)\n",
            "Requirement already satisfied: httpx-sse==0.4.0 in /usr/local/lib/python3.12/dist-packages (from cohere) (0.4.0)\n",
            "Requirement already satisfied: pydantic>=1.9.2 in /usr/local/lib/python3.12/dist-packages (from cohere) (2.11.10)\n",
            "Requirement already satisfied: pydantic-core<3.0.0,>=2.18.2 in /usr/local/lib/python3.12/dist-packages (from cohere) (2.33.2)\n",
            "Requirement already satisfied: requests<3.0.0,>=2.0.0 in /usr/local/lib/python3.12/dist-packages (from cohere) (2.32.4)\n",
            "Requirement already satisfied: tokenizers<1,>=0.15 in /usr/local/lib/python3.12/dist-packages (from cohere) (0.22.1)\n",
            "Requirement already satisfied: types-requests<3.0.0,>=2.0.0 in /usr/local/lib/python3.12/dist-packages (from cohere) (2.32.4.20250913)\n",
            "Requirement already satisfied: typing_extensions>=4.0.0 in /usr/local/lib/python3.12/dist-packages (from cohere) (4.15.0)\n",
            "Requirement already satisfied: click<8.2,>=7.1 in /usr/local/lib/python3.12/dist-packages (from gtts) (8.1.8)\n",
            "Requirement already satisfied: anyio in /usr/local/lib/python3.12/dist-packages (from httpx>=0.21.2->cohere) (4.11.0)\n",
            "Requirement already satisfied: certifi in /usr/local/lib/python3.12/dist-packages (from httpx>=0.21.2->cohere) (2025.10.5)\n",
            "Requirement already satisfied: httpcore==1.* in /usr/local/lib/python3.12/dist-packages (from httpx>=0.21.2->cohere) (1.0.9)\n",
            "Requirement already satisfied: idna in /usr/local/lib/python3.12/dist-packages (from httpx>=0.21.2->cohere) (3.11)\n",
            "Requirement already satisfied: h11>=0.16 in /usr/local/lib/python3.12/dist-packages (from httpcore==1.*->httpx>=0.21.2->cohere) (0.16.0)\n",
            "Requirement already satisfied: annotated-types>=0.6.0 in /usr/local/lib/python3.12/dist-packages (from pydantic>=1.9.2->cohere) (0.7.0)\n",
            "Requirement already satisfied: typing-inspection>=0.4.0 in /usr/local/lib/python3.12/dist-packages (from pydantic>=1.9.2->cohere) (0.4.2)\n",
            "Requirement already satisfied: charset_normalizer<4,>=2 in /usr/local/lib/python3.12/dist-packages (from requests<3.0.0,>=2.0.0->cohere) (3.4.4)\n",
            "Requirement already satisfied: urllib3<3,>=1.21.1 in /usr/local/lib/python3.12/dist-packages (from requests<3.0.0,>=2.0.0->cohere) (2.5.0)\n",
            "Requirement already satisfied: huggingface-hub<2.0,>=0.16.4 in /usr/local/lib/python3.12/dist-packages (from tokenizers<1,>=0.15->cohere) (0.36.0)\n",
            "Requirement already satisfied: filelock in /usr/local/lib/python3.12/dist-packages (from huggingface-hub<2.0,>=0.16.4->tokenizers<1,>=0.15->cohere) (3.20.0)\n",
            "Requirement already satisfied: fsspec>=2023.5.0 in /usr/local/lib/python3.12/dist-packages (from huggingface-hub<2.0,>=0.16.4->tokenizers<1,>=0.15->cohere) (2025.3.0)\n",
            "Requirement already satisfied: packaging>=20.9 in /usr/local/lib/python3.12/dist-packages (from huggingface-hub<2.0,>=0.16.4->tokenizers<1,>=0.15->cohere) (25.0)\n",
            "Requirement already satisfied: pyyaml>=5.1 in /usr/local/lib/python3.12/dist-packages (from huggingface-hub<2.0,>=0.16.4->tokenizers<1,>=0.15->cohere) (6.0.3)\n",
            "Requirement already satisfied: tqdm>=4.42.1 in /usr/local/lib/python3.12/dist-packages (from huggingface-hub<2.0,>=0.16.4->tokenizers<1,>=0.15->cohere) (4.67.1)\n",
            "Requirement already satisfied: hf-xet<2.0.0,>=1.1.3 in /usr/local/lib/python3.12/dist-packages (from huggingface-hub<2.0,>=0.16.4->tokenizers<1,>=0.15->cohere) (1.2.0)\n",
            "Requirement already satisfied: sniffio>=1.1 in /usr/local/lib/python3.12/dist-packages (from anyio->httpx>=0.21.2->cohere) (1.3.1)\n",
            "It looks like you are running Gradio on a hosted Jupyter notebook, which requires `share=True`. Automatically setting `share=True` (you can turn this off by setting `share=False` in `launch()` explicitly).\n",
            "\n",
            "Colab notebook detected. This cell will run indefinitely so that you can see errors and logs. To turn off, set debug=False in launch().\n",
            "* Running on public URL: https://02e48d661266d49d36.gradio.live\n",
            "\n",
            "This share link expires in 1 week. For free permanent hosting and GPU upgrades, run `gradio deploy` from the terminal in the working directory to deploy to Hugging Face Spaces (https://huggingface.co/spaces)\n"
          ]
        },
        {
          "output_type": "display_data",
          "data": {
            "text/plain": [
              "<IPython.core.display.HTML object>"
            ],
            "text/html": [
              "<div><iframe src=\"https://02e48d661266d49d36.gradio.live\" width=\"100%\" height=\"500\" allow=\"autoplay; camera; microphone; clipboard-read; clipboard-write;\" frameborder=\"0\" allowfullscreen></iframe></div>"
            ]
          },
          "metadata": {}
        },
        {
          "output_type": "stream",
          "name": "stdout",
          "text": [
            "🎙️ Generating podcast on: iphone\n",
            "\n",
            "📜 Cleaned Script Generated:\n",
            "\n",
            "**Podcast Script: The iPhone – A Revolution in Technology** **:** \"Welcome to *Tech Talk Today*, the podcast where we dive deep into the gadgets, trends, and innovations shaping our world. I’m your , , and today, we’re talking about one of the most iconic devices of the 21st century: the iPhone. Whether you’re an Apple enthusiast or just curious about its impact, this episode is for you. Let’s get started!\" **:** \"When Steve Jobs unveiled the first iPhone in 2007, he called it a ‘revolutionary product that changes everything.’ And boy, was he right. The iPhone wasn’t just a phone—it was a game-changer. It combined a mobile phone, an iPod, and an internet communicator into one sleek device. But what made it truly revolutionary was its touchscreen interface, which ditched the physical keyboard and stylus in favor of intuitive gestures like pinch-to-zoom and swipe-to-scroll. It was a bold move that set the standard for smartphones to come.\" \"Fast forward to today, and the iPhone has evolved dramatically. From the introduction of the App Store in 2008, which opened up endless possibilities for developers and users, to the integration of advanced features like Face ID, augmented reality, and 5G connectivity, the iPhone has consistently pushed the boundaries of what a smartphone can do. It’s not just a tool for communication—it’s a camera, a wallet, a fitness tracker, and so much more.\" \"But the iPhone’s impact goes beyond its features. It’s transformed industries. Think about how it revolutionized photography, making high-quality cameras accessible to everyone. Or how it changed the way we consume media, from streaming music to watching movies on the go. And let’s not forget its role in shaping the app economy, which has created millions of jobs and opportunities worldwide.\" \"Of course, the iPhone isn’t without its critics. Some argue that its closed ecosystem limits customization, while others point to concerns about privacy and the environmental impact of frequent upgrades. But love it or hate it, there’s no denying the iPhone’s influence on technology and culture.\" \"So, what’s next for the iPhone? With rumors of foldable designs, improved battery life, and even more advanced AI features, it’s clear that Apple isn’t slowing down. The iPhone continues to evolve, and we can’t wait to see what the future holds.\" **:** \"Thanks for tuning in to *Tech Talk Today*. If you enjoyed this episode, don’t forget to subscribe and leave us a review. And if you have thoughts on the iPhone or suggestions for future topics, drop us a line on social media. Until next time, keep exploring the world of tech!\" **End of Script**\n",
            "\n",
            "🔊 Generating audio...\n",
            "✅ Podcast saved as: podcast_c6da86d3651b4423acae99da87a0ae51.mp3\n"
          ]
        }
      ],
      "source": [
        "!pip install cohere gtts\n",
        "\n",
        "import gradio as gr\n",
        "import cohere\n",
        "from gtts import gTTS\n",
        "import os\n",
        "import uuid\n",
        "import re\n",
        "\n",
        "# 1. Initialize Cohere API\n",
        "co = cohere.Client(\"GARNtcnzo4a0k1xazRIZf1SBUUqbFrSn9uIX7B39\")  # 🔑 Replace with your real key\n",
        "\n",
        "# 2. Generate podcast script\n",
        "def generate_script(topic):\n",
        "    prompt = f\"Write a 400-word podcast script on the topic: '{topic}'.\"\n",
        "    # Using Cohere's chat endpoint\n",
        "    response = co.chat(\n",
        "        model=\"command-a-translate-08-2025\",\n",
        "        message=prompt,\n",
        "        max_tokens=800,\n",
        "        temperature=0.7\n",
        "    )\n",
        "\n",
        "    # Handle possible response formats\n",
        "    if hasattr(response, \"text\") and response.text:\n",
        "        script = response.text.strip()\n",
        "    elif hasattr(response, \"output_text\"):\n",
        "        script = response.output_text.strip()\n",
        "    else:\n",
        "        raise RuntimeError(\"⚠️ Cohere response format not recognized.\")\n",
        "\n",
        "    # Clean the script\n",
        "    return clean_script(script)\n",
        "\n",
        "# 3. Function to clean the script\n",
        "def clean_script(script):\n",
        "    # Remove stage directions and unwanted lines\n",
        "    script = re.sub(r\"\\*\\*?\\[.*?\\]\\*\\*?\", \"\", script)              # Removes [Intro Music Fades In], [Music Transition], etc.\n",
        "    script = re.sub(r\"\\bHost:?\\b\", \"\", script, flags=re.IGNORECASE) # Removes 'Host:' or 'host:'\n",
        "    script = re.sub(r\"I[’']m your host.*?,\", \"\", script, flags=re.IGNORECASE)  # Removes lines like \"I’m your host, [Your Name],\"\n",
        "    script = re.sub(r\"\\[Your Name\\]\", \"\", script, flags=re.IGNORECASE)         # Removes placeholder names\n",
        "    script = re.sub(r\"\\s{2,}\", \" \", script)                        # Remove extra spaces\n",
        "    script = re.sub(r\"\\n{2,}\", \"\\n\", script)                       # Remove extra newlines\n",
        "    return script.strip()\n",
        "\n",
        "# 4. Convert cleaned script to speech with gTTS\n",
        "def generate_audio(script):\n",
        "    filename = f\"podcast_{uuid.uuid4().hex}.mp3\"\n",
        "    tts = gTTS(text=script, lang=\"en\")\n",
        "    tts.save(filename)\n",
        "    return filename\n",
        "\n",
        "# 5. Full workflow\n",
        "def generate_podcast(topic):\n",
        "    print(f\"🎙️ Generating podcast on: {topic}\")\n",
        "\n",
        "    script = generate_script(topic)\n",
        "    print(\"\\n📜 Cleaned Script Generated:\\n\")\n",
        "    print(script)\n",
        "\n",
        "    print(\"\\n🔊 Generating audio...\")\n",
        "    audio_file = generate_audio(script)\n",
        "    print(f\"✅ Podcast saved as: {audio_file}\")\n",
        "\n",
        "    return script, audio_file\n",
        "\n",
        "\n",
        "# Gradio Interface\n",
        "iface = gr.Interface(\n",
        "    fn=generate_podcast,\n",
        "    inputs=\"text\",\n",
        "    outputs=[\"text\", \"audio\"],\n",
        "    title=\"Podcast Generator\",\n",
        "    description=\"Enter a topic and generate a podcast script and audio.\"\n",
        ")\n",
        "\n",
        "iface.launch(debug=True)"
      ]
    },
    {
      "cell_type": "code",
      "execution_count": null,
      "metadata": {
        "collapsed": true,
        "id": "5fac778f"
      },
      "outputs": [],
      "source": [
        "!pip install --upgrade gradio"
      ]
    },
    {
      "cell_type": "code",
      "execution_count": null,
      "metadata": {
        "id": "3C2F46NIa7BS"
      },
      "outputs": [],
      "source": []
    }
  ],
  "metadata": {
    "colab": {
      "provenance": [],
      "authorship_tag": "ABX9TyN4lgxMGvuLxPSg/PE9+nFL",
      "include_colab_link": true
    },
    "kernelspec": {
      "display_name": "Python 3",
      "name": "python3"
    },
    "language_info": {
      "name": "python"
    }
  },
  "nbformat": 4,
  "nbformat_minor": 0
}